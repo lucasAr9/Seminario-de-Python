{
 "cells": [
  {
   "cell_type": "markdown",
   "metadata": {},
   "source": [
    "# Punto 10"
   ]
  },
  {
   "cell_type": "markdown",
   "metadata": {},
   "source": [
    "* Funcion para armar la estructura de datos.\n",
    "> Despues de leer los archivos, armo la estructura de los nombres con sus\n",
    "> notas en una lista de diccionarios, donde cada diccionario es un alumno."
   ]
  },
  {
   "cell_type": "code",
   "execution_count": 1,
   "metadata": {},
   "outputs": [],
   "source": [
    "def generar_lista(nombres, evaluacion1, evaluacion2):\n",
    "    \"\"\"Armado de lista de diccionarios con las notas de los alumnos\"\"\"\n",
    "    pos_evalu = 0\n",
    "    lista_alumnos = []\n",
    "    for nombre in nombres:\n",
    "        alumno = {\n",
    "            \"nombre\": nombre,\n",
    "            \"nota\": int(evaluacion1[pos_evalu]) + int(evaluacion2[pos_evalu])\n",
    "        }\n",
    "        lista_alumnos.append(alumno)\n",
    "        pos_evalu += 1\n",
    "    return lista_alumnos"
   ]
  },
  {
   "cell_type": "markdown",
   "metadata": {},
   "source": [
    "* Funcion para calcular el promedio de los alumnos."
   ]
  },
  {
   "cell_type": "code",
   "execution_count": 2,
   "metadata": {},
   "outputs": [],
   "source": [
    "def calcular_promedio(lista_alumnos):\n",
    "    \"\"\"Función para sumar todas las notas en el campo\n",
    "    \"nota\" de una lista de diccionarios\"\"\"\n",
    "    nota_total = 0\n",
    "    for alu in lista_alumnos:\n",
    "        nota = alu.get(\"nota\")\n",
    "        nota_total += nota\n",
    "    promedio = nota_total / len(lista_alumnos)\n",
    "    return promedio"
   ]
  },
  {
   "cell_type": "markdown",
   "metadata": {},
   "source": [
    "* Funcion para obtener los que estan debajo del promedio."
   ]
  },
  {
   "cell_type": "code",
   "execution_count": 3,
   "metadata": {},
   "outputs": [],
   "source": [
    "def alu_debajo_prom(lista_alumnos, promedio):\n",
    "    \"\"\"\"Informar los alumnos con la nota debajo del promedio\"\"\"\n",
    "    print(\"\")\n",
    "    print(\"Los alumnos con nota por debajo del promedio son: \")\n",
    "    for alu in lista_alumnos:\n",
    "        if alu.get(\"nota\") < promedio:\n",
    "            print(\"El alumno \" + alu.get(\"nombre\")\n",
    "                + \" con nota: \" + str(alu.get(\"nota\")))"
   ]
  },
  {
   "cell_type": "markdown",
   "metadata": {},
   "source": [
    "### Programa principal"
   ]
  },
  {
   "cell_type": "markdown",
   "metadata": {},
   "source": [
    "* Abrir las rutas de los archivos."
   ]
  },
  {
   "cell_type": "code",
   "execution_count": 4,
   "metadata": {},
   "outputs": [],
   "source": [
    "with open(\"nombres_1.txt\", 'r', encoding='utf-8') as arch_nombres:\n",
    "    nombres = arch_nombres.read()\n",
    "with open(\"eval1.txt\", 'r') as eval1:\n",
    "    evaluacion1 = eval1.read()\n",
    "with open(\"eval2.txt\", 'r') as eval2:\n",
    "    evaluacion2 = eval2.read()"
   ]
  },
  {
   "cell_type": "code",
   "execution_count": 5,
   "metadata": {},
   "outputs": [],
   "source": [
    "nombres = nombres.replace(\",\", \"\").replace(\"'\", \"\").split()\n",
    "evaluacion1 = evaluacion1.replace(\",\", \"\").split()\n",
    "evaluacion2 = evaluacion2.replace(\",\", \"\").split()"
   ]
  },
  {
   "cell_type": "markdown",
   "metadata": {},
   "source": [
    "1. Llamar primero a la funcion para armar la estructura de datos en una lista.\n",
    "\n",
    "2. Despues calcular el promedio entre todas las notas.\n",
    "\n",
    "3. Y por ultimo informar los que tienen nota mejor que el promedio."
   ]
  },
  {
   "cell_type": "code",
   "execution_count": null,
   "metadata": {},
   "outputs": [],
   "source": [
    "lista_alumnos = generar_lista(nombres, evaluacion1, evaluacion2)\n",
    "for alu in lista_alumnos:\n",
    "    print(alu)"
   ]
  },
  {
   "cell_type": "code",
   "execution_count": 7,
   "metadata": {},
   "outputs": [
    {
     "name": "stdout",
     "output_type": "stream",
     "text": [
      "El promedio es: 96.19148936170212\n"
     ]
    }
   ],
   "source": [
    "promedio = calcular_promedio(lista_alumnos)\n",
    "print(\"El promedio es: \" + str(promedio))"
   ]
  },
  {
   "cell_type": "code",
   "execution_count": 8,
   "metadata": {},
   "outputs": [
    {
     "name": "stdout",
     "output_type": "stream",
     "text": [
      "\n",
      "Los alumnos con nota por debajo del promedio son: \n",
      "El alumno CESAR con nota: 78\n",
      "El alumno Diego con nota: 33\n",
      "El alumno Dolores con nota: 53\n",
      "El alumno DYLAN con nota: 74\n",
      "El alumno ELIANA con nota: 13\n",
      "El alumno Emanuel con nota: 48\n",
      "El alumno GONZALO con nota: 76\n",
      "El alumno Gregorio con nota: 90\n",
      "El alumno Ignacio con nota: 21\n",
      "El alumno Jonathan con nota: 62\n",
      "El alumno Jorge con nota: 79\n",
      "El alumno JUAN con nota: 68\n",
      "El alumno Julian con nota: 87\n",
      "El alumno Leonel con nota: 55\n",
      "El alumno Nicolás con nota: 65\n",
      "El alumno NICOLÁS con nota: 22\n",
      "El alumno Priscila con nota: 24\n",
      "El alumno Yanina con nota: 84\n"
     ]
    }
   ],
   "source": [
    "alu_debajo_prom(lista_alumnos, promedio)"
   ]
  }
 ],
 "metadata": {
  "interpreter": {
   "hash": "0f3a9e79989d3fe5622a0e8675e6c85259a99dd002ad72f8bd8e4eef25f2a2e4"
  },
  "kernelspec": {
   "display_name": "Python 3.10.0 64-bit",
   "language": "python",
   "name": "python3"
  },
  "language_info": {
   "codemirror_mode": {
    "name": "ipython",
    "version": 3
   },
   "file_extension": ".py",
   "mimetype": "text/x-python",
   "name": "python",
   "nbconvert_exporter": "python",
   "pygments_lexer": "ipython3",
   "version": "3.10.0"
  },
  "orig_nbformat": 4
 },
 "nbformat": 4,
 "nbformat_minor": 2
}
