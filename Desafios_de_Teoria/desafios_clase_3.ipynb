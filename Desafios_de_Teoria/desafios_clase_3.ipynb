{
 "cells": [
  {
   "cell_type": "markdown",
   "metadata": {},
   "source": [
    "### Primer desafío\n",
    "##### Queremos escribir una función que imprima sus argumentos agregando de qué tipo son.\n",
    "* Por ejemplo, podríamos invocarla de la siguiente manera:\n",
    "~~~\n",
    "imprimo(1) --> 1 es de tipo <class 'int'>\n",
    "imprimo(2, \"hola\") --> 2 es de tipo <class 'int'>, hola es de tipo <class 'str'>\n",
    "imprimo([1,2], \"hola\", 3.2) --> [1, 2] es de tipo <class 'list', hola es de tipo <class 'str'>, 3.2 es de tipo <class 'float'>\n",
    "~~~\n",
    "¿Qué tiene de distinta esta función respecto a las que vimos antes o conocemos de otros lenguajes?"
   ]
  },
  {
   "cell_type": "code",
   "execution_count": null,
   "metadata": {},
   "outputs": [],
   "source": [
    "def imprimir(*args):\n",
    "    for valor in args:\n",
    "        print(f\"{valor} es de tipo {type(valor)}\")\n",
    "\n",
    "\n",
    "imprimir(\"hola\")\n",
    "imprimir(\"otro hola\", 3)\n",
    "imprimir(\"un hola mas\", \"con otro hola\", 9.0, False)"
   ]
  },
  {
   "cell_type": "markdown",
   "metadata": {},
   "source": [
    "### Segundo desafío: ¿todo junto se puede?\n",
    "Probar en casa este ejemplo y analizar el orden en el que definimos los parámetros."
   ]
  },
  {
   "cell_type": "code",
   "execution_count": 2,
   "metadata": {},
   "outputs": [
    {
     "name": "stdout",
     "output_type": "stream",
     "text": [
      "hola\n",
      "(1, 2, 3)\n",
      "{'uno': 1, 'dos': 2, 'tres': 3}\n"
     ]
    }
   ],
   "source": [
    "def imprimir(variable1, *args, **kwargs):\n",
    "    print(variable1)\n",
    "    for elem in args:\n",
    "        print(elem)\n",
    "    for clave, valor in kwargs:\n",
    "        print(f\"{clave}: {valor}\")\n",
    "\n",
    "variable = \"hola\"\n",
    "una_tupla = (1, 2, 3)  # o tambien -> una_lista = [1, 2, 3]\n",
    "un_dicci = {\"uno\": 1, \"dos\": 2, \"tres\": 3}\n",
    "imprimir(variable, una_tupla, un_dicci)"
   ]
  },
  {
   "cell_type": "markdown",
   "metadata": {},
   "source": [
    "### Tercer desafío\n",
    "* Queremos implementar una función que dada una cadena de texto, retorne las palabras que contiene en orden alfabético."
   ]
  },
  {
   "cell_type": "code",
   "execution_count": 6,
   "metadata": {},
   "outputs": [
    {
     "name": "stdout",
     "output_type": "stream",
     "text": [
      "['Hoy', 'día.', 'gran', 'puede', 'ser', 'un']\n"
     ]
    }
   ],
   "source": [
    "# Una posible solución\n",
    "def ordeno1(cadena=\"ss\"):\n",
    "    \"\"\" Implementación usando sort\"\"\"\n",
    "    lista = cadena.split()\n",
    "    lista.sort(key=str.lower)     # ordena todas las palabras en minuscula\n",
    "    lista.sort()                  # ordena mayusculas primero y min despues\n",
    "    return lista\n",
    "\n",
    "\n",
    "print(ordeno1(\"Hoy puede ser un gran día. \"))"
   ]
  },
  {
   "cell_type": "code",
   "execution_count": 8,
   "metadata": {},
   "outputs": [
    {
     "name": "stdout",
     "output_type": "stream",
     "text": [
      "[' ', ' ', ' ', ' ', ' ', ' ', '.', 'a', 'a', 'd', 'd', 'e', 'e', 'e', 'g', 'H', 'n', 'n', 'o', 'p', 'r', 'r', 's', 'u', 'u', 'y', 'í']\n"
     ]
    }
   ],
   "source": [
    "# Otra posible solución\n",
    "def ordeno2(cadena):\n",
    "    \"\"\" Implementación usando sorted\"\"\"\n",
    "    # lista = cadena.split()\n",
    "    return sorted(cadena, key=str.lower)\n",
    "\n",
    "\n",
    "print(ordeno2(\"Hoy puede ser un gran día. \"))"
   ]
  },
  {
   "cell_type": "code",
   "execution_count": 31,
   "metadata": {},
   "outputs": [
    {
     "name": "stdout",
     "output_type": "stream",
     "text": [
      "[1, 2, 3, 4, 5, 6, 7, 8]\n",
      "None\n"
     ]
    }
   ],
   "source": [
    "# el sort modifica la lista in situ\n",
    "\n",
    "lista = [1, 4, 5, 2, 7, 8, 3, 6]\n",
    "nueva_lista = lista.sort()\n",
    "print(lista)\n",
    "print(nueva_lista)"
   ]
  },
  {
   "cell_type": "code",
   "execution_count": 18,
   "metadata": {},
   "outputs": [
    {
     "name": "stdout",
     "output_type": "stream",
     "text": [
      "[1, 4, 5, 2, 7, 8, 3, 6]\n",
      "[1, 2, 3, 4, 5, 6, 7, 8]\n"
     ]
    }
   ],
   "source": [
    "# el sorted() crea una nueva lista ordenada a partir de un iterable\n",
    "\n",
    "lista = [1, 4, 5, 2, 7, 8, 3, 6]\n",
    "nueva_lista = sorted(lista)\n",
    "print(lista)\n",
    "print(nueva_lista)"
   ]
  },
  {
   "cell_type": "markdown",
   "metadata": {},
   "source": [
    "### Cuarto desafío\n",
    "* Queremos implementar una función que dada una colección con datos de usuarios de un determinado juego (por ejemplo nombre, nivel y puntaje), queremos retornar esta colección ordenada de acuerdo al nombre."
   ]
  },
  {
   "cell_type": "code",
   "execution_count": 6,
   "metadata": {},
   "outputs": [
    {
     "name": "stdout",
     "output_type": "stream",
     "text": [
      "[('cual', 9, 2540), ('hola', 2, 3405), ('no', 1, 6234), ('quien', 5, 9057), ('si', 4, 7533), ('who', 3, 5633), ('why not', 8, 9090)] \n",
      "\n",
      "[('no', 1, 6234), ('hola', 2, 3405), ('who', 3, 5633), ('si', 4, 7533), ('quien', 5, 9057), ('why not', 8, 9090), ('cual', 9, 2540)] \n",
      "\n",
      "[('cual', 9, 2540), ('hola', 2, 3405), ('who', 3, 5633), ('no', 1, 6234), ('si', 4, 7533), ('quien', 5, 9057), ('why not', 8, 9090)] \n",
      "\n"
     ]
    }
   ],
   "source": [
    "def ordenar(lista, orden):\n",
    "    \"\"\" Ordenar una lista segun tres criterios \"\"\"\n",
    "    return sorted(lista, key=lambda lista: lista[orden])\n",
    "\n",
    "\n",
    "lista = [\n",
    "    (\"hola\", 2, 3405),\n",
    "    (\"no\", 1, 6234),\n",
    "    (\"si\", 4, 7533),\n",
    "    (\"cual\", 9, 2540),\n",
    "    (\"quien\", 5, 9057),\n",
    "    (\"who\", 3, 5633),\n",
    "    (\"why not\", 8, 9090)\n",
    "]\n",
    "print(ordenar(lista, 0), \"\\n\")\n",
    "print(ordenar(lista, 1), \"\\n\")\n",
    "print(ordenar(lista, 2), \"\\n\")"
   ]
  },
  {
   "cell_type": "markdown",
   "metadata": {},
   "source": [
    "### Quinto desafío\n",
    "* Usando expresiones lambda escribir una función que permita codificar una\n",
    "frase según el siguiente algoritmo:\n",
    "~~~\n",
    "encripto(\"a\") --> \"b\"\n",
    "encripto(\"ABC\") --> \"BCD\"\n",
    "encripto(\"Rock2021\") --> \"Spdl3132\"\n",
    "~~~"
   ]
  },
  {
   "cell_type": "code",
   "execution_count": 10,
   "metadata": {},
   "outputs": [
    {
     "name": "stdout",
     "output_type": "stream",
     "text": [
      "ipmb rvf ubm@ !1 a\n"
     ]
    }
   ],
   "source": [
    "import string\n",
    "\n",
    "abc = list(string.ascii_letters + string.digits + string.punctuation)\n",
    "\n",
    "def encripto(cadena):\n",
    "    \"\"\" encriptar una cadena de texto \"\"\"\n",
    "    cadena_cifrada = \"\"\n",
    "    for letra in cadena:\n",
    "        if letra in abc:\n",
    "            indice = abc.index(letra)\n",
    "            indice += 1\n",
    "            if indice > 93:      # verifica que sea una pos valida en abc, si me\n",
    "                indice -= 94     # paso del ultimo caracter, vuelvo al principio\n",
    "            cadena_cifrada += abc[indice]\n",
    "        else:\n",
    "            cadena_cifrada += letra\n",
    "    return cadena_cifrada\n",
    "\n",
    "\n",
    "cadena = \"hola que tal? 90 ~\"\n",
    "print(encripto(cadena))"
   ]
  },
  {
   "cell_type": "code",
   "execution_count": 9,
   "metadata": {},
   "outputs": [
    {
     "name": "stdout",
     "output_type": "stream",
     "text": [
      "ipmb!rvf!ubm@!:1!\n"
     ]
    }
   ],
   "source": [
    "def encripto(cadena, n=1):\n",
    "    \"\"\" encriptar una cadena de texto \"\"\"\n",
    "    cadena = map(lambda x: ord(x) + n, cadena) # pasarlo a ascii y sumar 1\n",
    "    cadena = map(lambda x: chr(x), cadena) # pasar el ascii a char\n",
    "    cadena = ''.join(cadena)    # para unir los caracteres en una cadena\n",
    "    return cadena\n",
    "\n",
    "\n",
    "cadena = \"hola que tal? 90 ~\"\n",
    "print(encripto(cadena))\n",
    "# esta solucion no es 100% mia, desp de hablar con una compa\n",
    "# entendi esta solucion"
   ]
  }
 ],
 "metadata": {
  "interpreter": {
   "hash": "0f3a9e79989d3fe5622a0e8675e6c85259a99dd002ad72f8bd8e4eef25f2a2e4"
  },
  "kernelspec": {
   "display_name": "Python 3.10.0 64-bit",
   "language": "python",
   "name": "python3"
  },
  "language_info": {
   "codemirror_mode": {
    "name": "ipython",
    "version": 3
   },
   "file_extension": ".py",
   "mimetype": "text/x-python",
   "name": "python",
   "nbconvert_exporter": "python",
   "pygments_lexer": "ipython3",
   "version": "3.10.0"
  },
  "orig_nbformat": 4
 },
 "nbformat": 4,
 "nbformat_minor": 2
}
