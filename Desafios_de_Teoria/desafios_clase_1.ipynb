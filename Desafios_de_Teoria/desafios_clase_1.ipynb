{
 "cells": [
  {
   "cell_type": "markdown",
   "metadata": {},
   "source": [
    "### Primer desafío\n",
    "* Queremos ingresar un número desde el teclado e imprimir si el número es o no par.\n",
    "* ¿Cómo sería el pseudocódigo de esto?\n",
    "\n",
    "~~~\n",
    "Ingresar un número desde el teclado\n",
    "SI es par:\n",
    "    Mostrar mensaje: \"es par\"\n",
    "SINO:\n",
    "    Mostrar mensaje: \"NO es par\"\n",
    "~~~\n",
    "¿Cómo ingresamos datos desde el teclado?"
   ]
  },
  {
   "cell_type": "code",
   "execution_count": null,
   "metadata": {},
   "outputs": [],
   "source": [
    "numero = int(input(\"Ingresar un numero para ver si es par o impar\"))\n",
    "\n",
    "if (numero % 2) == 0:\n",
    "    print(\"El número es par.\")\n",
    "else:\n",
    "    print(\"El número es impar.\")"
   ]
  },
  {
   "cell_type": "markdown",
   "metadata": {},
   "source": [
    "### Segundo desafío\n",
    "* Queremos ingresar un número desde el teclado e imprimir si es múltiplo de 2, 3 o 5.\n",
    "* Pista: Python tiene otra forma de la sentencia condicional: if-elif-else."
   ]
  },
  {
   "cell_type": "code",
   "execution_count": null,
   "metadata": {},
   "outputs": [],
   "source": [
    "numero = int(input(\"Un numero para ver si es multimo de 2, 3 o 5\"))\n",
    "\n",
    "if (numero % 2) == 0:\n",
    "    print(\"El número es multiplo de 2.\")\n",
    "elif (numero % 3) == 0:\n",
    "    print(\"El número es multiplo de 3.\")\n",
    "elif (numero % 5) == 0:\n",
    "    print(\"El número es multiplo de 5.\")"
   ]
  },
  {
   "cell_type": "markdown",
   "metadata": {},
   "source": [
    "### Tercer desafío\n",
    "* Dado una letra ingresada por el teclado, queremos saber si es mayúscula o minúscula."
   ]
  },
  {
   "cell_type": "code",
   "execution_count": null,
   "metadata": {},
   "outputs": [],
   "source": [
    "letra = input(\"Ingresar una letra\")\n",
    "\n",
    "if letra >= \"a\" and letra <= \"z\":\n",
    "    print(\"Es minúscula.\")\n",
    "elif letra >= \"A\" and letra <= \"Z\":\n",
    "    print(\"Es mayúscula.\")\n",
    "else:\n",
    "    print(\"No es una letra.\")"
   ]
  },
  {
   "cell_type": "markdown",
   "metadata": {},
   "source": [
    "### Cuarto desafío\n",
    "* Dado un caracter ingresado por el teclado, queremos saber si es una comilla o no.\n",
    "* ¿Hay algún problema?"
   ]
  },
  {
   "cell_type": "code",
   "execution_count": null,
   "metadata": {},
   "outputs": [],
   "source": [
    "caracter = input(\"Ingresar un caracter\")\n",
    "\n",
    "if caracter == \"\\\"\":\n",
    "    print(\"Es una comilla\")\n",
    "else:\n",
    "    print(\"No es una comilla\")"
   ]
  },
  {
   "cell_type": "markdown",
   "metadata": {},
   "source": [
    "### Quinto desafío\n",
    "* Dadas dos cadenas ingresadas desde el teclado, imprimir aquella que tenga más caracteres."
   ]
  },
  {
   "cell_type": "code",
   "execution_count": null,
   "metadata": {},
   "outputs": [],
   "source": [
    "cadena1 = input(\"Ingresar una palabra\")\n",
    "cadena2 = input(\"Ingresar otra palabra\")\n",
    "\n",
    "if len(cadena1) > len(cadena2):\n",
    "    print(\"La palabra \" + cadena1 + \" es mas larga\")\n",
    "elif len(cadena1) < len(cadena2):\n",
    "    print(\"La palabra \" + cadena2 + \" es mas larga\")\n",
    "else:\n",
    "    print(\"Las dos palabras son iguales.\")"
   ]
  },
  {
   "cell_type": "markdown",
   "metadata": {},
   "source": [
    "### Sexto desafío\n",
    "* Escribir un programa que ingrese desde teclado una cadena de\n",
    "caracteres e imprima cuántas letras “a” contiene."
   ]
  },
  {
   "cell_type": "code",
   "execution_count": null,
   "metadata": {},
   "outputs": [],
   "source": [
    "cadena = input(\"Ingrese una cadena de caracteres\")\n",
    "contar_a = 0\n",
    "\n",
    "for i in range(len(cadena)):\n",
    "    if cadena[i] == \"a\":\n",
    "        contar_a += 1\n",
    "\n",
    "print(\"La cantidad de \\\"a\\\" en la cadena son: \" + str(contar_a))"
   ]
  }
 ],
 "metadata": {
  "interpreter": {
   "hash": "0f3a9e79989d3fe5622a0e8675e6c85259a99dd002ad72f8bd8e4eef25f2a2e4"
  },
  "kernelspec": {
   "display_name": "Python 3 (ipykernel)",
   "language": "python",
   "name": "python3"
  },
  "language_info": {
   "codemirror_mode": {
    "name": "ipython",
    "version": 3
   },
   "file_extension": ".py",
   "mimetype": "text/x-python",
   "name": "python",
   "nbconvert_exporter": "python",
   "pygments_lexer": "ipython3",
   "version": "3.10.0"
  }
 },
 "nbformat": 4,
 "nbformat_minor": 2
}
