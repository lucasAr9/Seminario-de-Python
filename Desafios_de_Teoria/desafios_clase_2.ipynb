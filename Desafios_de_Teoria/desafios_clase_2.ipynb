{
 "cells": [
  {
   "cell_type": "markdown",
   "metadata": {},
   "source": [
    "### Primer desafío del día\n",
    "Vamos a modificar el código anterior para que se imprima la cadena “TIENE R” si la palabra contiene la letra r y sino, imprima “NO TIENE R”"
   ]
  },
  {
   "cell_type": "code",
   "execution_count": null,
   "metadata": {},
   "outputs": [],
   "source": [
    "for i in range(4):\n",
    "    cadena = input(\"Ingresar una palabra\")\n",
    "    print(\"tiene r\" if \"r\" in cadena else \"no tiene\")"
   ]
  },
  {
   "cell_type": "markdown",
   "metadata": {},
   "source": [
    "### Segundo desafío del día\n",
    "* Ingresar palabras desde el teclado hasta ingresar la palabra FIN. Imprimir\n",
    "aquellas que empiecen y terminen con la misma letra.\n",
    "* ¿Qué estructura de control deberíamos utilizar para realizar esta iteración? ¿Podemos utilizar\n",
    "la sentencia for?"
   ]
  },
  {
   "cell_type": "code",
   "execution_count": null,
   "metadata": {},
   "outputs": [],
   "source": [
    "cadenas = []\n",
    "palabra = input(\"Ingresar palabras hasta escribir \\\"FIN\\\"\")\n",
    "\n",
    "while palabra != \"FIN\":\n",
    "    cadenas.append(palabra)\n",
    "    palabra = input(\"Ingresar palabras hasta escribir \\\"FIN\\\"\")\n",
    "\n",
    "for elem in range(len(cadenas)):\n",
    "    if cadenas[elem][0] == cadenas[elem][len(cadenas[elem])-1]:\n",
    "        print(cadenas[elem])"
   ]
  },
  {
   "cell_type": "markdown",
   "metadata": {},
   "source": [
    "### Tercer desafío del día\n",
    "**Necesitamos procesar las notas de los estudiantes de este curso. Queremos saber:**\n",
    "* cuál es el promedio de las notas;\n",
    "* cuántos estudiantes están por debajo del promedio.\n",
    "\n",
    "¿Cómo sería un pseudocódigo de esto?\n",
    "~~~\n",
    "Ingresar las notas\n",
    "Calcular el promedio\n",
    "Calcular cuántos tienen notas menores al promedio\n",
    "~~~\n",
    "¿Cómo obtenemos las notas menores al promedio? ¿Tenemos que ingresar las notas dos veces?\n",
    "Obviamente no. **Necesitamos tipos de datos que nos permitan guardar muchos valores.**"
   ]
  },
  {
   "cell_type": "code",
   "execution_count": null,
   "metadata": {},
   "outputs": [],
   "source": [
    "notas = []\n",
    "ingresar_nota = int(input(\"Ingresar una nota: \"))\n",
    "\n",
    "while ingresar_nota != -1:\n",
    "    notas.append(ingresar_nota)\n",
    "    ingresar_nota = int(input(\"Ingresar una nota: \"))\n",
    "\n",
    "sumar_notas = 0.0\n",
    "for elem in notas:\n",
    "    sumar_notas += elem\n",
    "promedio = 0 if len(notas) == 0 else sumar_notas / len(notas)\n",
    "\n",
    "debajo_de_prom = 0\n",
    "for elem in notas:\n",
    "    if elem < promedio:\n",
    "        debajo_de_prom += 1\n",
    "\n",
    "print(notas)\n",
    "print(\"El promedio es: \" + str(promedio))\n",
    "print(\"La cantidad que estan debajo del promedio es: \" + str(debajo_de_prom))"
   ]
  },
  {
   "cell_type": "markdown",
   "metadata": {},
   "source": [
    "### Cuarto desafío del día\n",
    "Necesitamos procesar las notas de los estudiantes de este curso. Queremos\n",
    "saber:\n",
    "\n",
    "* cuál es el promedio de las notas,\n",
    "* qué estudiantes están por debajo del promedio.\n",
    "\n",
    "¿Qué diferencia hay con el desafío anterior?\n",
    "\n",
    "* Deberíamos ingresar no sólo las notas, sino también los nombres de los estudiantes.\n",
    "* ¿Qué soluciones proponen?\n",
    "* ¿Qué estructura de datos estoy usando? Hay algo mejor…\n",
    "### ¿Qué les parece esta solución?"
   ]
  },
  {
   "cell_type": "code",
   "execution_count": null,
   "metadata": {},
   "outputs": [],
   "source": [
    "nombre = input(\"Ingresa un nombre (<FIN> para finalizar)\")\n",
    "lista = []\n",
    "while nombre != \"FIN\":\n",
    "    nota = int(input(f\"Ingresa la nota de {nombre}\"))\n",
    "    lista.append((nombre, nota))\n",
    "    nombre = input(\"Ingresa un nombre (<FIN> para finalizar)\")\n",
    "print(lista)\n",
    "\n",
    "# respuesta:\n",
    "# la diferencia es que ahora agregamos el nombre, pero los agrupamos en una\n",
    "# lista de listas, y lo mejor seria como el siguiente tema, usar diccionarios."
   ]
  },
  {
   "cell_type": "markdown",
   "metadata": {},
   "source": [
    "### La función para el primer proceso del desafío\n",
    "* Definición vs. invocación.\n",
    "* ¿Qué pasa si no incluyo el return?\n",
    "* Pueden definir las otras dos funciones para completar el desafio."
   ]
  },
  {
   "cell_type": "code",
   "execution_count": null,
   "metadata": {},
   "outputs": [],
   "source": [
    "def ingreso_notas():\n",
    "    \"\"\"\n",
    "        Esta función retorna un diccionario con los nombres\n",
    "        y notas de estudiantes\n",
    "    \"\"\"\n",
    "    dicci = {}\n",
    "    nombre = input(\"Ingresa un nombre (<FIN> para finalizar)\")\n",
    "    while nombre != \"FIN\":\n",
    "        nota = int(input(f\"Ingresa la nota de {nombre}\"))\n",
    "        dicci[nombre] = nota\n",
    "        nombre = input(\"Ingresa un nombre (<FIN> para finalizar)\")\n",
    "    return dicci\n",
    "\n",
    "\n",
    "def promedio(notas):\n",
    "    sumar_notas = 0.0\n",
    "    for elem in notas:\n",
    "        sumar_notas += notas[elem]\n",
    "    return 0 if len(notas) == 0 else sumar_notas / len(notas)\n",
    "\n",
    "\n",
    "def debajo_de_prom(notas, promedio):\n",
    "    contar = 0\n",
    "    for elem in notas:\n",
    "        if notas[elem] < promedio:\n",
    "            contar += 1\n",
    "    return contar\n",
    "\n",
    "\n",
    "notas_de_estudiantes = ingreso_notas()\n",
    "prom = promedio(notas_de_estudiantes)\n",
    "debajo_prom = debajo_de_prom(notas_de_estudiantes, prom)\n",
    "print(notas_de_estudiantes)\n",
    "print(\"El promedio es: \" + str(prom))\n",
    "print(\"La cantidad que estan debajo del promedio es: \" + str(debajo_prom))"
   ]
  },
  {
   "cell_type": "markdown",
   "metadata": {},
   "source": [
    "### Tarea para el hogar\n",
    "* Observar el juego del ahorcado que se presenta en el libro Invent Your Own Computer Games with Python.\n",
    "* Analizar:\n",
    "    1. Tipos de datos trabajados.\n",
    "    2. Funciones definidas.\n",
    "    3. ¿Cómo define los niveles?\n",
    "    4. ¿Se respeta la PEP 8?\n",
    "* ¿Se animan a modificarlo?\n",
    "    1. Agregar pistas sobre el tipo de la palabra a adivinar."
   ]
  },
  {
   "cell_type": "markdown",
   "metadata": {},
   "source": [
    "De entrada el PyCharm me dice que hay 53 errores con respecto al PEP 8 y\n",
    "dándole un vistazo, el código es incómodo de leer porque tengo que correr\n",
    "de derecha a izquierda en el editor para ver todo, y otro error que me di cuenta\n",
    "y me lo marca el IDE es de lowerCase, todo debería estar en minúscula separando\n",
    "las palabras con un guión bajo. Si lo modificaria seria para corregir todos los\n",
    "errores de PEP 8."
   ]
  }
 ],
 "metadata": {
  "interpreter": {
   "hash": "0f3a9e79989d3fe5622a0e8675e6c85259a99dd002ad72f8bd8e4eef25f2a2e4"
  },
  "kernelspec": {
   "display_name": "Python 3 (ipykernel)",
   "language": "python",
   "name": "python3"
  },
  "language_info": {
   "codemirror_mode": {
    "name": "ipython",
    "version": 3
   },
   "file_extension": ".py",
   "mimetype": "text/x-python",
   "name": "python",
   "nbconvert_exporter": "python",
   "pygments_lexer": "ipython3",
   "version": "3.10.0"
  }
 },
 "nbformat": 4,
 "nbformat_minor": 2
}
