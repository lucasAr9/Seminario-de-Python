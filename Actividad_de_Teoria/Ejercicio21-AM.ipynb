{
 "cells": [
  {
   "cell_type": "markdown",
   "id": "b015a19f",
   "metadata": {},
   "source": [
    "# Actividad 1 por Python plus\n"
   ]
  },
  {
   "cell_type": "markdown",
   "id": "b0d0ad1d",
   "metadata": {},
   "source": [
    "## Parte I: resolvé el siguiente desafío:"
   ]
  },
  {
   "cell_type": "markdown",
   "id": "ea851991",
   "metadata": {},
   "source": [
    "EJERCICIO 21: dado el archivo denominado [Pokemon.csv](https://archivos.linti.unlp.edu.ar/index.php/s/l0v1FI2FlSKpVnK) que contiene datos sobre pokemones, se desea generar un archivo con los nombres tipos (Type 1)  y de los pokemones de las generaciones 1 y 2 (Generation) que tengan valor de ataque menor que el de defensa ((Attack y Defense).\n"
   ]
  },
  {
   "cell_type": "code",
   "execution_count": 1,
   "id": "5021bb7c",
   "metadata": {},
   "outputs": [],
   "source": [
    "#Solución\n",
    "import csv\n",
    "\n",
    "archivo = open(\"Pokemon.txt\", \"x\")\n",
    "archivo_csv =open(\"Pokemon.csv\", \"r\")\n",
    "\n",
    "csvreader = csv.reader(archivo_csv, delimiter=',')\n",
    "\n",
    "for p in csvreader:\n",
    "    archivo.writerows = (p[\"Name\"], [\"Type\"])\n",
    "for x in reader:\n",
    "    if x[\"Generation\"] == 1 or 2:\n",
    "        if x[\"attack\"] < x[\"defense\"]:\n",
    "            archivo.writerows = (x[\"Name\"], [\"Type\"])"
   ]
  }
 ],
 "metadata": {
  "kernelspec": {
   "display_name": "Python 3 (ipykernel)",
   "language": "python",
   "name": "python3"
  },
  "language_info": {
   "codemirror_mode": {
    "name": "ipython",
    "version": 3
   },
   "file_extension": ".py",
   "mimetype": "text/x-python",
   "name": "python",
   "nbconvert_exporter": "python",
   "pygments_lexer": "ipython3",
   "version": "3.10.0"
  }
 },
 "nbformat": 4,
 "nbformat_minor": 5
}
