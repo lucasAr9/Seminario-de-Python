{
 "cells": [
  {
   "cell_type": "markdown",
   "id": "b015a19f",
   "metadata": {},
   "source": [
    "# Actividad 1 por Python plus\n"
   ]
  },
  {
   "cell_type": "markdown",
   "id": "b0d0ad1d",
   "metadata": {},
   "source": [
    "## Parte I: resolvé el siguiente desafío:"
   ]
  },
  {
   "cell_type": "markdown",
   "id": "304b9643",
   "metadata": {},
   "source": [
    "EJERCICIO 10: dado el archivo denominado [BBB_nuevo.csv](https://archivos.linti.unlp.edu.ar/index.php/s/q9b3rCrlhOS1yWU) que contiene los accesos al recurso BigBlueButton que usamos para las clases virtuales de la materia, se desea generar una archivo con todos aquellos usuarios que se conectaron a la teoría (Evento: Actividad BigBlueButtonBN visualizada) y luego visualizaron la grabación (Evento: \"Grabación vista\")."
   ]
  },
  {
   "cell_type": "code",
   "execution_count": null,
   "id": "5021bb7c",
   "metadata": {},
   "outputs": [],
   "source": [
    "#Solución\n",
    "\n",
    "import csv\n",
    "import json\n",
    "\n",
    "\n",
    "BBB_nuevo = open('BBB_nuevo.csv', 'r', encoding='utf-8', newline='')\n",
    "reader_csv = csv.reader(BBB_nuevo, delimiter=',')\n",
    "\n",
    "visualizaron_los_dos = open('visualizaron_los_dos.json', 'w')\n",
    "\n",
    "nombre1 = []\n",
    "nombre2 = []\n",
    "vis_los_dos = bool\n",
    "\n",
    "for fila in reader_csv:\n",
    "    if fila[2] == \"Actividad BigBlueButtonBN visualizada\":\n",
    "        nombre1.append(fila[1])\n",
    "    if fila[2] == \"Grabación vista\":\n",
    "        nombre2.append(fila[1])\n",
    "\n",
    "nombres1 = set(nombre1)\n",
    "nombres2 = set(nombre2)\n",
    "ambos = nombres1 & nombres2\n",
    "for i in ambos:\n",
    "    json.dump(i, visualizaron_los_dos, indent=4)\n",
    "\n",
    "BBB_nuevo.close()\n",
    "visualizaron_los_dos.close()"
   ]
  }
 ],
 "metadata": {
  "kernelspec": {
   "display_name": "Python 3 (ipykernel)",
   "language": "python",
   "name": "python3"
  },
  "language_info": {
   "codemirror_mode": {
    "name": "ipython",
    "version": 3
   },
   "file_extension": ".py",
   "mimetype": "text/x-python",
   "name": "python",
   "nbconvert_exporter": "python",
   "pygments_lexer": "ipython3",
   "version": "3.10.0"
  }
 },
 "nbformat": 4,
 "nbformat_minor": 5
}
