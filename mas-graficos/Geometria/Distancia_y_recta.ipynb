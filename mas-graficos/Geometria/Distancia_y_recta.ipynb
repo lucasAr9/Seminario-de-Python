{
 "cells": [
  {
   "attachments": {},
   "cell_type": "markdown",
   "metadata": {
    "datalore": {
     "hide_input_from_viewers": false,
     "hide_output_from_viewers": false,
     "node_id": "G07G6Rmrk3XcwGBdOnDWnT",
     "type": "MD"
    }
   },
   "source": [
    "# Rectas y puntos en el gráfico"
   ]
  },
  {
   "cell_type": "code",
   "execution_count": 1,
   "metadata": {
    "datalore": {
     "hide_input_from_viewers": false,
     "hide_output_from_viewers": false,
     "node_id": "J1LJ47EgaeuAM2TDCqoQL4",
     "type": "CODE"
    }
   },
   "outputs": [],
   "source": [
    "import matplotlib.pyplot as plt\n",
    "import numpy as np\n",
    "import math"
   ]
  },
  {
   "cell_type": "code",
   "execution_count": 2,
   "metadata": {
    "datalore": {
     "hide_input_from_viewers": false,
     "hide_output_from_viewers": false,
     "node_id": "liKS6u4I5KYIhwTnV7MSmy",
     "type": "CODE"
    }
   },
   "outputs": [],
   "source": [
    "def grafico(xs, ys, colors, puntos=True):\n",
    "    \"\"\"Crear el grafico según si se quiere rectas o dos puntos\"\"\"\n",
    "    fig, ax = plt.subplots(figsize=(10, 10))\n",
    "    centrar_grafico(ax)\n",
    "    \n",
    "    if puntos:\n",
    "        # Dos puntos\n",
    "        ax.scatter(xs, ys, c=colors)\n",
    "\n",
    "        # Marcar líneas punteada entre ejes y puntos\n",
    "        for x, y, c in zip(xs, ys, colors):\n",
    "            ax.plot([x, x], [0, y], c=c, ls='--', lw=2, alpha=0.5)\n",
    "            ax.plot([0, x], [y, y], c=c, ls='--', lw=2, alpha=0.5)\n",
    "\n",
    "        # Marcar la recta entre los puntos\n",
    "        ax.plot(xs, ys, color='k', ls='-', lw=1.5, alpha=0.5)\n",
    "\n",
    "    else:\n",
    "        # Recta\n",
    "        ax.plot(xs[0], ys[0], c=colors[0], label='y=mx+b')\n",
    "        ax.plot(xs[1], ys[1], c=colors[1], label='y=mx+b')\n",
    "\n",
    "    plt.show()\n",
    "\n",
    "\n",
    "def centrar_grafico(ax):\n",
    "    \"\"\"Centralizar el grafico\"\"\"\n",
    "    # Dimensiones de los ejes\n",
    "    xmin, xmax, ymin, ymax = -5, 5, -5, 5\n",
    "    marca_entre_puntos = 1\n",
    "\n",
    "    # Marcar los ejes x e y en el centro del dibujo\n",
    "    ax.set(xlim=(xmin-1, xmax+1), ylim=(ymin-1, ymax+1), aspect='equal')\n",
    "\n",
    "    ax.spines['bottom'].set_position('zero')\n",
    "    ax.spines['left'].set_position('zero')\n",
    "    ax.spines['top'].set_visible(False)\n",
    "    ax.spines['right'].set_visible(False)\n",
    "\n",
    "    ax.set_xlabel('x', size=15, labelpad=-20, x=1.02)\n",
    "    ax.set_ylabel('y', size=15, labelpad=-20, y=1.02, rotation=0)\n",
    "\n",
    "    x_marca = np.arange(xmin, xmax + 1, marca_entre_puntos)\n",
    "    y_marca = np.arange(ymin, ymax + 1, marca_entre_puntos)\n",
    "    ax.set_xticks(x_marca[x_marca != 0])\n",
    "    ax.set_yticks(y_marca[y_marca != 0])\n",
    "\n",
    "    # Crear cuadrantes grises en todo el dibujo\n",
    "    ax.set_xticks(np.arange(xmin, xmax+1), minor=True)\n",
    "    ax.set_yticks(np.arange(ymin, ymax+1), minor=True)\n",
    "\n",
    "    ax.grid(which='both', color='gray', linewidth=1.2, linestyle='-', alpha=0.1)"
   ]
  },
  {
   "attachments": {},
   "cell_type": "markdown",
   "metadata": {
    "datalore": {
     "hide_input_from_viewers": false,
     "hide_output_from_viewers": false,
     "node_id": "kYJzlEcQ8l0qvnHTvAFueR",
     "type": "MD"
    }
   },
   "source": [
    "## Puntos"
   ]
  },
  {
   "attachments": {},
   "cell_type": "markdown",
   "metadata": {
    "datalore": {
     "hide_input_from_viewers": false,
     "hide_output_from_viewers": false,
     "node_id": "p9kxGvB6ZaN4X6iQ2xq1zc",
     "type": "MD"
    }
   },
   "source": [
    "* Ejemplo: $ P(3, 2) $ y $ Q(5, -3) $"
   ]
  },
  {
   "cell_type": "code",
   "execution_count": 3,
   "metadata": {
    "datalore": {
     "hide_input_from_viewers": false,
     "hide_output_from_viewers": false,
     "node_id": "TogoDnsSRDNgQ7pEdw5I5o",
     "type": "CODE"
    }
   },
   "outputs": [
    {
     "data": {
      "image/png": "[encoded data removed]",
      "text/plain": [
       "<Figure size 720x720 with 1 Axes>"
      ]
     },
     "metadata": {
      "needs_background": "light"
     },
     "output_type": "display_data"
    }
   ],
   "source": [
    "xs = [3, 5]\n",
    "ys = [2, -3]\n",
    "colors = ['#39A0AA', '#BD4267']\n",
    "\n",
    "grafico(xs, ys, colors)"
   ]
  },
  {
   "attachments": {},
   "cell_type": "markdown",
   "metadata": {
    "datalore": {
     "hide_input_from_viewers": false,
     "hide_output_from_viewers": false,
     "node_id": "lrofpzBCtzHxvh1A58cRLH",
     "type": "MD"
    }
   },
   "source": [
    "### Distancia entre dos puntos"
   ]
  },
  {
   "attachments": {},
   "cell_type": "markdown",
   "metadata": {
    "datalore": {
     "hide_input_from_viewers": false,
     "hide_output_from_viewers": false,
     "node_id": "rSG6VRFH9Wasa2PS92WQ1X",
     "type": "MD"
    }
   },
   "source": [
    "* Teorema de Pitágoras:\n",
    "\n",
    "$$ a^2 + b^2 = d^2 $$\n",
    "$$ d = \\sqrt{a^2 + b^2} $$\n",
    "\n",
    "$$ a = x_2 - x_1 $$\n",
    "$$ b = y_2 - y_1 $$\n",
    "\n",
    "$$ d = \\sqrt{(x_2 - x_1)^2 + (y_2 - y_1)^2} $$"
   ]
  },
  {
   "cell_type": "code",
   "execution_count": 4,
   "metadata": {
    "datalore": {
     "hide_input_from_viewers": false,
     "hide_output_from_viewers": false,
     "node_id": "sXiqtYsmXekyqrkfpD3Yqs",
     "type": "CODE"
    }
   },
   "outputs": [
    {
     "name": "stdout",
     "output_type": "stream",
     "text": [
      "Distancia entre P y Q = 5.385164807134504\n"
     ]
    }
   ],
   "source": [
    "a = xs[1] - xs[0]\n",
    "b = ys[1] - ys[0]\n",
    "\n",
    "d = math.sqrt(a**2 + b**2)\n",
    "\n",
    "print(f\"Distancia entre P y Q = {d}\")"
   ]
  },
  {
   "attachments": {},
   "cell_type": "markdown",
   "metadata": {
    "datalore": {
     "hide_input_from_viewers": false,
     "hide_output_from_viewers": false,
     "node_id": "tkHlk0BgyPya2VEja0evqO",
     "type": "MD"
    }
   },
   "source": [
    "### Pendiente y ordenada al origen"
   ]
  },
  {
   "attachments": {},
   "cell_type": "markdown",
   "metadata": {
    "datalore": {
     "hide_input_from_viewers": false,
     "hide_output_from_viewers": false,
     "node_id": "b65K9R1Xjhi7OUk6Kd2rHC",
     "type": "MD"
    }
   },
   "source": [
    "* Ecuación explícita:\n",
    "\n",
    "$$ y = mx + b $$"
   ]
  },
  {
   "cell_type": "code",
   "execution_count": 5,
   "metadata": {
    "datalore": {
     "hide_input_from_viewers": false,
     "hide_output_from_viewers": false,
     "node_id": "2CPyl6RGWVWGBM5MGZp0VB",
     "type": "CODE"
    }
   },
   "outputs": [
    {
     "name": "stdout",
     "output_type": "stream",
     "text": [
      "Ecuación de la recta: y = -2.5x + 9.5\n",
      "Pendiente -2.5 y ordenada al origen 9.5\n"
     ]
    }
   ],
   "source": [
    "m = (ys[1] - ys[0]) / (xs[1] - xs[0])\n",
    "b = ys[0] - m * xs[0]\n",
    "\n",
    "print(f\"Ecuación de la recta: y = {m}x + {b}\")\n",
    "print(f\"Pendiente {m} y ordenada al origen {b}\")"
   ]
  },
  {
   "attachments": {},
   "cell_type": "markdown",
   "metadata": {
    "datalore": {
     "hide_input_from_viewers": false,
     "hide_output_from_viewers": false,
     "node_id": "6Wo2VH3nG6hiMSR2lJGLh5",
     "type": "MD"
    }
   },
   "source": [
    "## Rectas"
   ]
  },
  {
   "attachments": {},
   "cell_type": "markdown",
   "metadata": {
    "datalore": {
     "hide_input_from_viewers": false,
     "hide_output_from_viewers": false,
     "node_id": "bktB4wF2yWDsJXlIsj9QUg",
     "type": "MD"
    }
   },
   "source": [
    "* Ejemplo: la recta $ y = -2x + 3 $ y la recta $ y = 1.9x - 1 $"
   ]
  },
  {
   "cell_type": "code",
   "execution_count": 21,
   "metadata": {
    "datalore": {
     "hide_input_from_viewers": false,
     "hide_output_from_viewers": false,
     "node_id": "nJa7ThmRVBxKcu2AGUWRdy",
     "type": "CODE"
    }
   },
   "outputs": [
    {
     "data": {
      "image/png": "[encoded data removed]",
      "text/plain": [
       "<Figure size 720x720 with 1 Axes>"
      ]
     },
     "metadata": {
      "needs_background": "light"
     },
     "output_type": "display_data"
    }
   ],
   "source": [
    "x = np.linspace(-10, 10, 100)\n",
    "\n",
    "# Primer recta\n",
    "m1 = -2\n",
    "b1 = 3\n",
    "\n",
    "# Segunda recta\n",
    "m2 = 1.9\n",
    "b2 = -1\n",
    "\n",
    "# Ecuacion de las rectas\n",
    "y1 = m1*x + b1\n",
    "y2 = m2*x + b2\n",
    "\n",
    "xs = [x, x]\n",
    "ys = [y1, y2]\n",
    "colors = ['#39A0AA', '#BD4267']\n",
    "\n",
    "grafico(xs, ys, colors, puntos=False)"
   ]
  },
  {
   "attachments": {},
   "cell_type": "markdown",
   "metadata": {
    "datalore": {
     "hide_input_from_viewers": false,
     "hide_output_from_viewers": false,
     "node_id": "BUFuP7fjzWAM73oBUmyNNh",
     "type": "MD"
    }
   },
   "source": [
    "### Intersección de las rectas"
   ]
  },
  {
   "cell_type": "code",
   "execution_count": 22,
   "metadata": {
    "datalore": {
     "hide_input_from_viewers": false,
     "hide_output_from_viewers": false,
     "node_id": "A5eTlCaowHHMmWqaFSsueb",
     "type": "CODE"
    }
   },
   "outputs": [
    {
     "name": "stdout",
     "output_type": "stream",
     "text": [
      "El punto de intersección es (1.0256410256410258, 0.9487179487179486)\n"
     ]
    }
   ],
   "source": [
    "x_interseccion = (b1 - b2) / (m2 - m1)\n",
    "y_interseccion = (m2*b1 - m1*b2) / (m2 - m1)\n",
    "\n",
    "print(f\"El punto de intersección es ({x_interseccion}, {y_interseccion})\")"
   ]
  }
 ],
 "metadata": {
  "datalore": {
   "base_environment": "default",
   "computation_mode": "JUPYTER",
   "package_manager": "pip",
   "packages": [],
   "version": 1
  },
  "kernelspec": {
   "display_name": "Python 3.10.4 ('mas-graficos')",
   "language": "python",
   "name": "python3"
  },
  "language_info": {
   "codemirror_mode": {
    "name": "ipython",
    "version": 3
   },
   "file_extension": ".py",
   "mimetype": "text/x-python",
   "name": "python",
   "nbconvert_exporter": "python",
   "pygments_lexer": "ipython3",
   "version": "3.10.4"
  },
  "vscode": {
   "interpreter": {
    "hash": "3649c9d1fec01176759fde872405a5dd19c0e371634bd2b58d8525c03b53a184"
   }
  }
 },
 "nbformat": 4,
 "nbformat_minor": 4
}
